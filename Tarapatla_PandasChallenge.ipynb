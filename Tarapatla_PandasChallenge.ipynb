{
 "cells": [
  {
   "cell_type": "code",
   "execution_count": 1,
   "id": "ac6126fe-37d4-4796-9bec-b8c6a9cbe9e0",
   "metadata": {},
   "outputs": [],
   "source": [
    "import pandas as pd"
   ]
  },
  {
   "cell_type": "code",
   "execution_count": 3,
   "id": "5ece373b-d431-4661-bbf3-8fcd54fe6471",
   "metadata": {},
   "outputs": [],
   "source": [
    "# Establish a DataFrame.\n",
    "data = {\n",
    "    'A': [3,6,9],\n",
    "    'B': ['Anushka','Mehreen','Rakul'],\n",
    "    'C': [True, False, True]}"
   ]
  },
  {
   "cell_type": "code",
   "execution_count": 7,
   "id": "ddf5de00-915d-4d20-9c3e-ec51fe7afca7",
   "metadata": {},
   "outputs": [],
   "source": [
    "df = pd.DataFrame(data)"
   ]
  },
  {
   "cell_type": "code",
   "execution_count": 9,
   "id": "54befe7a-5d5e-42b5-97da-c1d46d81b0e2",
   "metadata": {},
   "outputs": [
    {
     "name": "stdout",
     "output_type": "stream",
     "text": [
      "Head of DataFrame:\n",
      "   A        B      C\n",
      "0  3  Anushka   True\n",
      "1  6  Mehreen  False\n",
      "2  9    Rakul   True\n"
     ]
    }
   ],
   "source": [
    "# Examine the DataFrame's head\n",
    "print(\"Head of DataFrame:\")\n",
    "print(df.head())"
   ]
  },
  {
   "cell_type": "code",
   "execution_count": 11,
   "id": "79d0f688-ff86-4c54-ae36-01a2b61bcea7",
   "metadata": {},
   "outputs": [
    {
     "name": "stdout",
     "output_type": "stream",
     "text": [
      "\n",
      "Index of DataFrame:\n",
      "RangeIndex(start=0, stop=3, step=1)\n"
     ]
    }
   ],
   "source": [
    "# Examine the DataFrame's index\n",
    "print(\"\\nIndex of DataFrame:\")\n",
    "print(df.index)"
   ]
  },
  {
   "cell_type": "code",
   "execution_count": 13,
   "id": "d120a50e-a188-45c3-b85f-934fa3610352",
   "metadata": {},
   "outputs": [
    {
     "name": "stdout",
     "output_type": "stream",
     "text": [
      "\n",
      "First column of DataFrame:\n",
      "0    3\n",
      "1    6\n",
      "2    9\n",
      "Name: A, dtype: int64\n"
     ]
    }
   ],
   "source": [
    "# Choose and examine the DataFrame's first column.\n",
    "print(\"\\nFirst column of DataFrame:\")\n",
    "print(df['A'])"
   ]
  },
  {
   "cell_type": "code",
   "execution_count": 15,
   "id": "8c48d073-59ce-468d-bab0-16e3c7720b43",
   "metadata": {},
   "outputs": [
    {
     "name": "stdout",
     "output_type": "stream",
     "text": [
      "\n",
      "First row of DataFrame:\n",
      "A          3\n",
      "B    Anushka\n",
      "C       True\n",
      "Name: 0, dtype: object\n"
     ]
    }
   ],
   "source": [
    "# Choose and display the DataFrame's first row.\n",
    "print(\"\\nFirst row of DataFrame:\")\n",
    "print(df.iloc[0])"
   ]
  },
  {
   "cell_type": "code",
   "execution_count": 17,
   "id": "b4df6ddf-28c1-4f0a-9c73-dac11920a5a4",
   "metadata": {},
   "outputs": [
    {
     "name": "stdout",
     "output_type": "stream",
     "text": [
      "list: [('A', [3, 6, 9]), ('B', ['Anushka', 'Mehreen', 'Rakul']), ('C', [True, False, True])]\n"
     ]
    }
   ],
   "source": [
    "# Converting dictionary to a list of items\n",
    "New_Data = list(data.items())\n",
    "print(\"list:\",New_Data)"
   ]
  },
  {
   "cell_type": "code",
   "execution_count": 21,
   "id": "e06f8dd2-e43e-4200-ad12-888a6626811a",
   "metadata": {},
   "outputs": [
    {
     "name": "stdout",
     "output_type": "stream",
     "text": [
      "  Column_Name                     Values\n",
      "0           A                  [3, 6, 9]\n",
      "1           B  [Anushka, Mehreen, Rakul]\n",
      "2           C        [True, False, True]\n"
     ]
    }
   ],
   "source": [
    "# Creating a Dataframe from the list\n",
    "df = pd.DataFrame(New_Data, columns=[\"Column_Name\", \"Values\"])\n",
    "\n",
    "# Displaying the Dataframe\n",
    "print(df)\n",
    "                                     "
   ]
  },
  {
   "cell_type": "code",
   "execution_count": 23,
   "id": "11619d1d-17ba-4358-80e4-da806880b3e7",
   "metadata": {},
   "outputs": [],
   "source": [
    "# Create a new CSV file with the datframe\n",
    "df.to_csv('NewData.csv', index=False)"
   ]
  },
  {
   "cell_type": "markdown",
   "id": "f8124a7a-d134-4f21-9d7b-3302b2fad37d",
   "metadata": {},
   "source": [
    "Murray (2017) outlines the write/render/evaluate cycle as a structured process for individuals who design interactive data visualizations in Chapter 1. How each component contributes is as follows:\n",
    "\n",
    "Write: This step is mostly concerned with designing and coding the initial version of the visual aid. Creators define the interactive pieces, data, and layout using their programming environment or visualization tools.\\\n",
    "Render: This is the part of the code where the visualization is created and displayed. By seeing how their interactions and designs are represented graphically, it helps artists have a real feel of what they are creating.\\\n",
    "Evaluate: Designers assess the usability and effectiveness of the visualization at this point. They assess its ability to achieve their goals, hold people's attention, and provide the necessary information.The necessary adjustments are guided by the evaluation's findings and feedback.\n",
    "\n",
    "There are numerous significant benefits of using dynamic, interactive data visualizations in data communication.\\\n",
    "**Engagement**: By letting viewers actively engage with the data, these visualizations increase audience involvement and improve memory retention.\\\n",
    "**Customization**: They allow users to focus on particular features or interesting parts and modify the display to fit their tastes.\\\n",
    "**Insight Discovery**: By utilizing functions like zooming, filtering, and tooltips, users can find patterns and insights that static visualizations would have missed.\\\n",
    "**Narrative construction**: Interactive visualizations can be employed to create stories that lead viewers through the data while highlighting important details for a deeper comprehension.\n",
    "\n",
    "Transparency, adaptability, and customisation are provided by open-source platforms for presenting data visualizations since they welcome community contributions and changes. Though proprietary software may offer more features or better support, the optimal option will rely on the needs, experience, and resources of the project. The choice should be in line with each option's advantages and particular goals."
   ]
  }
 ],
 "metadata": {
  "kernelspec": {
   "display_name": "Python 3 (ipykernel)",
   "language": "python",
   "name": "python3"
  },
  "language_info": {
   "codemirror_mode": {
    "name": "ipython",
    "version": 3
   },
   "file_extension": ".py",
   "mimetype": "text/x-python",
   "name": "python",
   "nbconvert_exporter": "python",
   "pygments_lexer": "ipython3",
   "version": "3.12.4"
  }
 },
 "nbformat": 4,
 "nbformat_minor": 5
}
