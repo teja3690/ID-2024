{
 "cells": [
  {
   "cell_type": "markdown",
   "id": "65ee63ee-7ea9-42c0-b013-7bf085c150f5",
   "metadata": {},
   "source": [
    "# systems check\n",
    "# teja\n",
    "# 8/20/2023"
   ]
  },
  {
   "cell_type": "code",
   "execution_count": 18,
   "id": "dc3b09d2-08a1-47ac-9ece-0d0f7c7090ce",
   "metadata": {},
   "outputs": [],
   "source": [
    "x = 3"
   ]
  },
  {
   "cell_type": "code",
   "execution_count": 19,
   "id": "61cc0ff2-4efa-450e-8d15-8c4b24bd5a15",
   "metadata": {},
   "outputs": [
    {
     "data": {
      "text/plain": [
       "3"
      ]
     },
     "execution_count": 19,
     "metadata": {},
     "output_type": "execute_result"
    }
   ],
   "source": [
    "x"
   ]
  },
  {
   "cell_type": "code",
   "execution_count": 21,
   "id": "419e1b36-f6f9-4a92-a796-851220fec621",
   "metadata": {},
   "outputs": [
    {
     "data": {
      "text/plain": [
       "[2, 3, 4, 5]"
      ]
     },
     "execution_count": 21,
     "metadata": {},
     "output_type": "execute_result"
    }
   ],
   "source": [
    "my_list = [2,3,4,5]\n",
    "my_list"
   ]
  },
  {
   "cell_type": "code",
   "execution_count": 24,
   "id": "285a3b6e-20d0-4aaf-a78b-9f1ee6e16933",
   "metadata": {},
   "outputs": [],
   "source": [
    "my_list = ['now', 'see', 'this']"
   ]
  },
  {
   "cell_type": "code",
   "execution_count": null,
   "id": "d38a633c-5c59-46a7-b951-cfbe76462bb4",
   "metadata": {},
   "outputs": [],
   "source": [
    "my_name = 'Teja'"
   ]
  },
  {
   "cell_type": "code",
   "execution_count": null,
   "id": "00242d1b-c624-41ab-8434-38c213e103b5",
   "metadata": {},
   "outputs": [],
   "source": [
    "def display_name(x):\n",
    "    print(x)"
   ]
  },
  {
   "cell_type": "code",
   "execution_count": null,
   "id": "03ed5a98-f54e-4190-97fa-5c2408c5602a",
   "metadata": {},
   "outputs": [],
   "source": [
    "display_name(my_name)\n",
    "Teja"
   ]
  },
  {
   "cell_type": "code",
   "execution_count": 22,
   "id": "9832a214-8a5f-406c-92b6-7df6305025b2",
   "metadata": {},
   "outputs": [],
   "source": [
    "def change_name(x):\n",
    "    new_name = x + 'new'\n",
    "    return new_name"
   ]
  },
  {
   "cell_type": "code",
   "execution_count": 30,
   "id": "c176a565-f95b-4b70-a978-8176a359262d",
   "metadata": {},
   "outputs": [
    {
     "data": {
      "text/plain": [
       "'Tejanew'"
      ]
     },
     "execution_count": 30,
     "metadata": {},
     "output_type": "execute_result"
    }
   ],
   "source": [
    "changed_name = change_name('Teja')\n",
    "changed_name"
   ]
  },
  {
   "cell_type": "code",
   "execution_count": null,
   "id": "b94a0d4e-d33b-4fc4-8712-f4a8f4f52f59",
   "metadata": {},
   "outputs": [],
   "source": []
  }
 ],
 "metadata": {
  "kernelspec": {
   "display_name": "Python 3 (ipykernel)",
   "language": "python",
   "name": "python3"
  },
  "language_info": {
   "codemirror_mode": {
    "name": "ipython",
    "version": 3
   },
   "file_extension": ".py",
   "mimetype": "text/x-python",
   "name": "python",
   "nbconvert_exporter": "python",
   "pygments_lexer": "ipython3",
   "version": "3.12.4"
  }
 },
 "nbformat": 4,
 "nbformat_minor": 5
}
