{
 "cells": [
  {
   "cell_type": "markdown",
   "id": "0ba07772-e068-4bbe-a6ce-ec44a60b8c6d",
   "metadata": {},
   "source": [
    "# Milestone 3: Interactive Visualization and Analysis\n",
    "\n",
    "In order to display the forecasts of our CNN-based stock market model, this milestone focuses on developing an interactive dashboard. The dashboard gives financial experts the ability to investigate stock price patterns and dynamically compare real and projected values. Among the essential features are:\n",
    "\n",
    "- Data can be filtered using date ranges and stock symbols.\n",
    "- Visualizing actual vs. predicted prices.\n",
    "- Displaying metrics for performance such as Mean Squared Error (MSE) and Mean Absolute Error (MAE).\n",
    "\n",
    "Plotly and Dash will be used to create this interactive visualization.\n"
   ]
  },
  {
   "cell_type": "markdown",
   "id": "cf251f6e-f705-415b-938a-53807a150d6e",
   "metadata": {},
   "source": [
    "## Importing Libraries and Preparing Data\n",
    "\n",
    "Load the required libraries and get the dataset ready for visualization in this section. \n",
    "The data that we load or simulate includes the following columns:\n",
    "- **Date**: The time period for the stock prices.\n",
    "- **Stock_Symbol**: The stock being analyzed (e.g., AAPL, GOOGL).\n",
    "- **Actual_Price**: The observed stock price.\n",
    "- **Predicted_Price**: The stock price predicted by our CNN model.\n",
    "\n",
    "Data is organized so that it can be filtered by date and stock symbol.\n"
   ]
  },
  {
   "cell_type": "code",
   "execution_count": 1,
   "id": "2528640f-7ffd-46e3-a5da-4c8ddb9cc130",
   "metadata": {},
   "outputs": [],
   "source": [
    "import pandas as pd\n",
    "import numpy as np\n",
    "import plotly.express as px\n",
    "import plotly.graph_objects as go\n",
    "from dash import Dash, dcc, html, Input, Output\n",
    "\n",
    "# Load predicted data (replace with your actual data)\n",
    "df_predictions = pd.DataFrame({\n",
    "    'Date': pd.date_range(start='2023-01-01', periods=100),\n",
    "    'Stock_Symbol': ['AAPL'] * 50 + ['GOOGL'] * 50,\n",
    "    'Actual_Price': np.random.uniform(100, 500, 100),\n",
    "    'Predicted_Price': np.random.uniform(100, 500, 100)\n",
    "})\n"
   ]
  },
  {
   "cell_type": "markdown",
   "id": "7ca222cc-285e-413d-a745-4bbeb05a1460",
   "metadata": {},
   "source": [
    "## Building the Dashboard Layout\n",
    "\n",
    "The components of the dashboard are as follows:\n",
    "1. **Dropdown Menu**: Enables users to choose a particular stock symbol for analysis.\n",
    "2. **Date Range Slider**: Allows data to be filtered within a given time frame.\n",
    "3. **Interactive Graph**: Displays the comparison between actual and predicted stock prices.\n",
    "4. **Summary Metrics**: Evaluates the accuracy of the model by providing key performance indicators such as MAE and MSE.\n",
    "\n",
    "These interactive features guarantee that the dashboard is easy to use and offers useful information.\n"
   ]
  },
  {
   "cell_type": "code",
   "execution_count": 2,
   "id": "1be3e650-2f40-4bf7-879d-7aea8db4afca",
   "metadata": {},
   "outputs": [],
   "source": [
    "# Initialize the Dash app\n",
    "app = Dash(__name__)\n",
    "\n",
    "# Define the layout\n",
    "app.layout = html.Div([\n",
    "    html.H1(\"Stock Market Prediction Dashboard\", style={'textAlign': 'center'}),\n",
    "    html.Div([\n",
    "        html.Label(\"Select Stock Symbol:\"),\n",
    "        dcc.Dropdown(\n",
    "            id='stock-dropdown',\n",
    "            options=[{'label': symbol, 'value': symbol} for symbol in df_predictions['Stock_Symbol'].unique()],\n",
    "            value='AAPL',  # Default value\n",
    "            style={'width': '50%'}\n",
    "        ),\n",
    "        html.Label(\"Select Date Range:\"),\n",
    "        dcc.RangeSlider(\n",
    "            id='date-slider',\n",
    "            min=0,\n",
    "            max=len(df_predictions['Date']) - 1,\n",
    "            value=[0, len(df_predictions['Date']) - 1],\n",
    "            marks={i: date.strftime('%Y-%m-%d') for i, date in enumerate(df_predictions['Date'])},\n",
    "            step=1\n",
    "        )\n",
    "    ], style={'margin': '20px'}),\n",
    "    dcc.Graph(id='price-graph'),\n",
    "    html.Div(id='summary-metrics', style={'margin': '20px'})\n",
    "])"
   ]
  },
  {
   "cell_type": "markdown",
   "id": "c22515fc-9ab2-4718-9e4f-e27641924fd7",
   "metadata": {},
   "source": [
    "## Adding Interactivity to the Dashboard\n",
    "\n",
    "Update dynamically by utilizing Dash's callback functions:\n",
    "- The primary chart is based on date ranges and stock symbols chosen by the user.\n",
    "- To represent the chosen data subset, the summary metrics (MAE and MSE) are used.\n",
    "\n",
    "This enables financial analysts to efficiently examine particular stocks and time periods.\n"
   ]
  },
  {
   "cell_type": "code",
   "execution_count": 3,
   "id": "54bfe0b9-6096-4f40-b9d7-4e86a5a549e8",
   "metadata": {},
   "outputs": [],
   "source": [
    "@app.callback(\n",
    "    [Output('price-graph', 'figure'),\n",
    "     Output('summary-metrics', 'children')],\n",
    "    [Input('stock-dropdown', 'value'),\n",
    "     Input('date-slider', 'value')]\n",
    ")\n",
    "def update_dashboard(stock_symbol, date_range):\n",
    "    # Filter data based on stock symbol and date range\n",
    "    filtered_data = df_predictions[\n",
    "        (df_predictions['Stock_Symbol'] == stock_symbol) &\n",
    "        (df_predictions.index >= date_range[0]) &\n",
    "        (df_predictions.index <= date_range[1])\n",
    "    ]\n",
    "    \n",
    "    # Create the graph\n",
    "    fig = go.Figure()\n",
    "    fig.add_trace(go.Scatter(\n",
    "        x=filtered_data['Date'], y=filtered_data['Actual_Price'],\n",
    "        mode='lines+markers', name='Actual Price'\n",
    "    ))\n",
    "    fig.add_trace(go.Scatter(\n",
    "        x=filtered_data['Date'], y=filtered_data['Predicted_Price'],\n",
    "        mode='lines+markers', name='Predicted Price'\n",
    "    ))\n",
    "    fig.update_layout(title=\"Stock Prices: Actual vs Predicted\",\n",
    "                      xaxis_title='Date', yaxis_title='Stock Price',\n",
    "                      legend_title=\"Legend\")\n",
    "    \n",
    "    # Calculate summary metrics\n",
    "    mae = np.mean(np.abs(filtered_data['Actual_Price'] - filtered_data['Predicted_Price']))\n",
    "    mse = np.mean((filtered_data['Actual_Price'] - filtered_data['Predicted_Price'])**2)\n",
    "    metrics = [\n",
    "        html.P(f\"Mean Absolute Error (MAE): {mae:.2f}\"),\n",
    "        html.P(f\"Mean Squared Error (MSE): {mse:.2f}\")\n",
    "    ]\n",
    "    \n",
    "    return fig, metrics\n"
   ]
  },
  {
   "cell_type": "markdown",
   "id": "df15d745-30e9-4464-b1ca-ea042735815f",
   "metadata": {},
   "source": [
    "## Running the Dashboard\n",
    "\n",
    "To render the interactive dashboard, lastly launch the Dash app.\n",
    "\n"
   ]
  },
  {
   "cell_type": "code",
   "execution_count": 4,
   "id": "0a54aa28-d25b-4b61-9a96-aa4540ef101c",
   "metadata": {},
   "outputs": [
    {
     "data": {
      "text/html": [
       "\n",
       "        <iframe\n",
       "            width=\"100%\"\n",
       "            height=\"650\"\n",
       "            src=\"http://127.0.0.1:8051/\"\n",
       "            frameborder=\"0\"\n",
       "            allowfullscreen\n",
       "            \n",
       "        ></iframe>\n",
       "        "
      ],
      "text/plain": [
       "<IPython.lib.display.IFrame at 0x1b920407440>"
      ]
     },
     "metadata": {},
     "output_type": "display_data"
    }
   ],
   "source": [
    "if __name__ == '__main__':\n",
    "    app.run_server(debug=True, port=8051)\n"
   ]
  },
  {
   "cell_type": "markdown",
   "id": "60ac21ba-9c29-4c35-87af-1d8a479f4ffa",
   "metadata": {},
   "source": [
    "# Conclusion\n",
    "\n",
    "Financial analysts can use the interactive visualization dashboard included in this milestone to:\n",
    "- Explore CNN's predictions in an interactive manner.\n",
    "- Sort data according to date range and stock symbol.\n",
    "- Visually compare projected and actual stock prices.\n",
    "- Analyze the model's performance with important metrics.\n",
    "\n",
    "This represents a major advancement in the development of a useful and approachable financial analysis tool.\n"
   ]
  },
  {
   "cell_type": "code",
   "execution_count": null,
   "id": "23ec269e-f503-40cd-8c91-b36733fbfa9b",
   "metadata": {},
   "outputs": [],
   "source": []
  }
 ],
 "metadata": {
  "kernelspec": {
   "display_name": "Python 3 (ipykernel)",
   "language": "python",
   "name": "python3"
  },
  "language_info": {
   "codemirror_mode": {
    "name": "ipython",
    "version": 3
   },
   "file_extension": ".py",
   "mimetype": "text/x-python",
   "name": "python",
   "nbconvert_exporter": "python",
   "pygments_lexer": "ipython3",
   "version": "3.12.4"
  }
 },
 "nbformat": 4,
 "nbformat_minor": 5
}
