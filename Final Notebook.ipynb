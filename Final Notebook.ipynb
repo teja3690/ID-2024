{
 "cells": [
  {
   "cell_type": "markdown",
   "id": "7141bb68-1e26-4b5c-9a72-aac6e7a6b512",
   "metadata": {},
   "source": [
    "#  **Stock Market Prediction using CNN-based Modeling**"
   ]
  },
  {
   "cell_type": "markdown",
   "id": "fcb91f7a-a467-49da-b23b-3961284db268",
   "metadata": {},
   "source": [
    "# **Introduction**\n",
    "\n",
    "**Final Project: CNN-Based Stock Market Prediction**\n",
    "The objective of this project is to use a Convolutional Neural Network (CNN) to forecast stock market trends and display the results on an interactive dashboard.\n",
    "\n",
    "**Goals**:\n",
    "1. Create and train a CNN model that uses historical data to forecast stock prices.\n",
    "2. Create an interactive dashboard to show the difference between the actual and expected stock prices.\n",
    "3. By displaying performance metrics such as MAE and MSE, you can give financial analysts actionable insights.\n",
    "\n",
    "The code is organized into the following sections:\n",
    "1. Data Preprocessing\n",
    "2. Model Development and Training\n",
    "3. Performance Evaluation\n",
    "4. Interactive Visualization\n"
   ]
  },
  {
   "cell_type": "code",
   "execution_count": 15,
   "id": "066696f8-8491-4fd5-b2e0-21590c08aa05",
   "metadata": {},
   "outputs": [
    {
     "name": "stdout",
     "output_type": "stream",
     "text": [
      "Initial DataFrame shape: (1984, 84)\n",
      "         Date       Close    Volume       mom      mom1      mom2      mom3  \\\n",
      "0  2009-12-31  625.390015       NaN       NaN       NaN       NaN       NaN   \n",
      "1  2010-01-04  640.099976  0.921723  0.023521       NaN       NaN       NaN   \n",
      "2  2010-01-05  638.489990 -0.375903 -0.002515  0.023521       NaN       NaN   \n",
      "3  2010-01-06  637.950012  0.996234 -0.000846 -0.002515  0.023521       NaN   \n",
      "4  2010-01-07  641.969971  0.059932  0.006301 -0.000846 -0.002515  0.023521   \n",
      "\n",
      "   ROC_5  ROC_10  ROC_15  ...   NZD  silver-F  RUSSELL-F  S&P-F   CHF  \\\n",
      "0    NaN     NaN     NaN  ...  0.03      0.26      -1.08  -1.00 -0.11   \n",
      "1    NaN     NaN     NaN  ...  1.52      3.26       1.61   1.62 -0.57   \n",
      "2    NaN     NaN     NaN  ... -0.07      1.96      -0.20   0.31  0.43   \n",
      "3    NaN     NaN     NaN  ...  0.56      2.15      -0.02   0.07 -0.56   \n",
      "4    NaN     NaN     NaN  ... -0.72      0.94       0.50   0.40  0.58   \n",
      "\n",
      "   Dollar index-F  Dollar index  wheat-F   XAG   XAU  \n",
      "0           -0.08         -0.06    -0.48  0.30  0.39  \n",
      "1           -0.59         -0.42     3.12  3.91  2.10  \n",
      "2            0.03          0.12    -0.90  1.42 -0.12  \n",
      "3           -0.24         -0.17     2.62  2.25  1.77  \n",
      "4            0.58          0.54    -1.85  0.22 -0.58  \n",
      "\n",
      "[5 rows x 84 columns]\n",
      "Date               object\n",
      "Close             float64\n",
      "Volume            float64\n",
      "mom               float64\n",
      "mom1              float64\n",
      "                   ...   \n",
      "Dollar index-F    float64\n",
      "Dollar index      float64\n",
      "wheat-F           float64\n",
      "XAG               float64\n",
      "XAU               float64\n",
      "Length: 84, dtype: object\n"
     ]
    }
   ],
   "source": [
    "import pandas as pd\n",
    "import matplotlib.pyplot as plt\n",
    "import seaborn as sns\n",
    "\n",
    "# load dataset\n",
    "url = \"C:/Users/tejat/Downloads/cnnpred+cnn+based+stock+market+prediction+using+a+diverse+set+of+variables/Processed_RUSSELL.csv\"\n",
    "\"C:/Users/tejat/Downloads/cnnpred+cnn+based+stock+market+prediction+using+a+diverse+set+of+variables/Processed_S&P.csv\"\n",
    "\"C:/Users/tejat/Downloads/cnnpred+cnn+based+stock+market+prediction+using+a+diverse+set+of+variables/Processed_DJI.csv\"\n",
    "\"C:/Users/tejat/Downloads/cnnpred+cnn+based+stock+market+prediction+using+a+diverse+set+of+variables/Processed_NASDAQ.csv\"\n",
    "\"C:/Users/tejat/Downloads/cnnpred+cnn+based+stock+market+prediction+using+a+diverse+set+of+variables/Processed_NYSE.csv\"\n",
    "df = pd.read_csv(url)\n",
    "\n",
    "# Inspect initial data\n",
    "print(\"Initial DataFrame shape:\", df.shape)\n",
    "print(df.head())\n",
    "print(df.dtypes)\n"
   ]
  },
  {
   "cell_type": "code",
   "execution_count": 16,
   "id": "f34d40e0-3464-488d-b290-7f774a510652",
   "metadata": {},
   "outputs": [
    {
     "name": "stdout",
     "output_type": "stream",
     "text": [
      "Non-numeric columns: Index(['Date', 'Name'], dtype='object')\n"
     ]
    }
   ],
   "source": [
    "# Drop non-numeric columns (e.g., 'Date')\n",
    "non_numeric_cols = df.select_dtypes(include=['object']).columns\n",
    "print(\"Non-numeric columns:\", non_numeric_cols)\n",
    "\n",
    "# Drop non-numeric columns if they aren’t needed\n",
    "df = df.drop(non_numeric_cols, axis=1)"
   ]
  },
  {
   "cell_type": "code",
   "execution_count": 17,
   "id": "b8d572f4-b105-4066-85dc-64dcc9f8a794",
   "metadata": {},
   "outputs": [
    {
     "name": "stdout",
     "output_type": "stream",
     "text": [
      "DataFrame shape after cleaning: (1984, 82)\n",
      "Column names in the dataset: Index(['Close', 'Volume', 'mom', 'mom1', 'mom2', 'mom3', 'ROC_5', 'ROC_10',\n",
      "       'ROC_15', 'ROC_20', 'EMA_10', 'EMA_20', 'EMA_50', 'EMA_200', 'DTB4WK',\n",
      "       'DTB3', 'DTB6', 'DGS5', 'DGS10', 'Oil', 'Gold', 'DAAA', 'DBAA', 'GBP',\n",
      "       'JPY', 'CAD', 'CNY', 'AAPL', 'AMZN', 'GE', 'JNJ', 'JPM', 'MSFT', 'WFC',\n",
      "       'XOM', 'FCHI', 'FTSE', 'GDAXI', 'DJI', 'HSI', 'IXIC', 'SSEC', 'S&P',\n",
      "       'NYSE', 'TE1', 'TE2', 'TE3', 'TE5', 'TE6', 'DE1', 'DE2', 'DE4', 'DE5',\n",
      "       'DE6', 'CTB3M', 'CTB6M', 'CTB1Y', 'AUD', 'Brent', 'CAC-F', 'copper-F',\n",
      "       'WIT-oil', 'DAX-F', 'DJI-F', 'EUR', 'FTSE-F', 'gold-F', 'HSI-F',\n",
      "       'KOSPI-F', 'NASDAQ-F', 'GAS-F', 'Nikkei-F', 'NZD', 'silver-F',\n",
      "       'RUSSELL-F', 'S&P-F', 'CHF', 'Dollar index-F', 'Dollar index',\n",
      "       'wheat-F', 'XAG', 'XAU'],\n",
      "      dtype='object')\n"
     ]
    }
   ],
   "source": [
    "# Replace NaN values with column means or other imputation strategy\n",
    "df.fillna(df.mean(), inplace=True)\n",
    "\n",
    "print(\"DataFrame shape after cleaning:\", df.shape)\n",
    "\n",
    "print(\"Column names in the dataset:\", df.columns)"
   ]
  },
  {
   "cell_type": "markdown",
   "id": "2d1b20f7-2b40-43da-95c4-23f78875a05c",
   "metadata": {},
   "source": [
    "## Step 1: Data Preprocessing\n",
    "**Description**:\n",
    "The CNN model's data preparation is covered in this section. The tasks consist of:\n",
    "1. Handling missing values.\n",
    "2. Scaling features for normalization.\n",
    "3. The dataset is reshaped to meet CNN input requirements.\n",
    "\n",
    "**Outputs**:\n",
    "- `X_train` and `X_test`: Feature matrices for training and testing.\n",
    "- `y_train` and `y_test`: Target variables for training and testing.\n"
   ]
  },
  {
   "cell_type": "code",
   "execution_count": 18,
   "id": "e2ef4048-c16c-4de8-9b6d-e7377d5ee976",
   "metadata": {},
   "outputs": [],
   "source": [
    "from sklearn.preprocessing import MinMaxScaler\n",
    "\n",
    "# Normalize the features for CNN model\n",
    "scaler = MinMaxScaler()\n",
    "df_scaled = pd.DataFrame(scaler.fit_transform(df), columns=df.columns)\n",
    "\n",
    "# Split the dataset into features (X) and target (y)\n",
    "target_column = 'Close'  # Replace 'Close' with your actual target variable\n",
    "X = df_scaled.drop(target_column, axis=1)\n",
    "y = df_scaled[target_column]"
   ]
  },
  {
   "cell_type": "code",
   "execution_count": 19,
   "id": "91fb9827-b064-4ff9-9013-0b3fecc57f4a",
   "metadata": {},
   "outputs": [
    {
     "data": {
      "image/png": "[encoded data removed]",
      "text/plain": [
       "<Figure size 1200x600 with 1 Axes>"
      ]
     },
     "metadata": {},
     "output_type": "display_data"
    }
   ],
   "source": [
    "## Basic Data Visualization for Trends (Optional)\n",
    "## This part is optional but useful for understanding the trends in stock prices\n",
    "\n",
    "plt.figure(figsize=(12, 6))\n",
    "plt.plot(df[target_column])\n",
    "plt.title('Stock Price Over Time')\n",
    "plt.xlabel('Time')\n",
    "plt.ylabel(target_column)\n",
    "plt.show()"
   ]
  },
  {
   "cell_type": "code",
   "execution_count": 20,
   "id": "d3b4b992-5274-4a82-949f-c0139c97f4ee",
   "metadata": {},
   "outputs": [
    {
     "name": "stdout",
     "output_type": "stream",
     "text": [
      "NumPy version: 1.26.4\n"
     ]
    }
   ],
   "source": [
    "import numpy as np\n",
    "print(\"NumPy version:\", np.__version__)\n",
    "\n",
    "from sklearn.model_selection import train_test_split\n",
    "\n",
    "# Split the data into train and test sets\n",
    "X_train, X_test, y_train, y_test = train_test_split(X, y, test_size=0.2, random_state=42)\n",
    "\n",
    "# Reshape data for CNN input (CNN requires 3D input: samples, time steps, features)\n",
    "X_train_cnn = np.reshape(X_train.values, (X_train.shape[0], X_train.shape[1], 1))\n",
    "X_test_cnn = np.reshape(X_test.values, (X_test.shape[0], X_test.shape[1], 1))\n"
   ]
  },
  {
   "cell_type": "markdown",
   "id": "afcc2dae-f77c-4279-a432-44a6bdf39acd",
   "metadata": {},
   "source": [
    "## Step 2: CNN Model Development and Training\n",
    "**Description**:\n",
    "In this section, a CNN model for stock market prediction is defined and trained.\n",
    "1. Time-series data is analyzed by convolutional layers to identify patterns.\n",
    "2. While keeping important information intact, pooling layers decrease dimensionality.\n",
    "3. Final predictions are made by dense layers.\n",
    "\n",
    "**Outputs**:\n",
    "- A CNN model that has been trained to forecast stock prices.\n",
    "- Using training and validation loss plots, model performance can be tracked.\n",
    "\n",
    "**Key Parameters**:\n",
    "- Optimizer: Adam\n",
    "- Loss Function: Mean Squared Error (MSE)\n",
    "- Epochs: 50\n"
   ]
  },
  {
   "cell_type": "code",
   "execution_count": 21,
   "id": "65006d76-4c55-42d4-b813-a6711d4769f3",
   "metadata": {},
   "outputs": [
    {
     "name": "stderr",
     "output_type": "stream",
     "text": [
      "C:\\Users\\tejat\\anaconda3\\envs\\indata_fa24\\Lib\\site-packages\\keras\\src\\layers\\convolutional\\base_conv.py:107: UserWarning:\n",
      "\n",
      "Do not pass an `input_shape`/`input_dim` argument to a layer. When using Sequential models, prefer using an `Input(shape)` object as the first layer in the model instead.\n",
      "\n"
     ]
    }
   ],
   "source": [
    "import tensorflow as tf\n",
    "from tensorflow.keras import layers, models\n",
    "\n",
    "# Define the CNN model\n",
    "model = models.Sequential([\n",
    "    layers.Conv1D(64, kernel_size=2, activation='relu', input_shape=(X_train_cnn.shape[1], 1)),\n",
    "    layers.MaxPooling1D(pool_size=2),\n",
    "    layers.Conv1D(128, kernel_size=2, activation='relu'),\n",
    "    layers.MaxPooling1D(pool_size=2),\n",
    "    layers.Flatten(),\n",
    "    layers.Dense(64, activation='relu'),\n",
    "    layers.Dense(1)\n",
    "])\n",
    "\n",
    "# Compile the model\n",
    "model.compile(optimizer='adam', loss='mse')\n"
   ]
  },
  {
   "cell_type": "code",
   "execution_count": 22,
   "id": "40f207c5-a1e5-4361-a624-1d4e35638c66",
   "metadata": {},
   "outputs": [
    {
     "name": "stdout",
     "output_type": "stream",
     "text": [
      "Epoch 1/50\n",
      "\u001b[1m50/50\u001b[0m \u001b[32m━━━━━━━━━━━━━━━━━━━━\u001b[0m\u001b[37m\u001b[0m \u001b[1m4s\u001b[0m 27ms/step - loss: 0.0858 - val_loss: 0.0050\n",
      "Epoch 2/50\n",
      "\u001b[1m50/50\u001b[0m \u001b[32m━━━━━━━━━━━━━━━━━━━━\u001b[0m\u001b[37m\u001b[0m \u001b[1m2s\u001b[0m 16ms/step - loss: 0.0035 - val_loss: 7.4252e-04\n",
      "Epoch 3/50\n",
      "\u001b[1m50/50\u001b[0m \u001b[32m━━━━━━━━━━━━━━━━━━━━\u001b[0m\u001b[37m\u001b[0m \u001b[1m1s\u001b[0m 13ms/step - loss: 0.0011 - val_loss: 8.9808e-04\n",
      "Epoch 4/50\n",
      "\u001b[1m50/50\u001b[0m \u001b[32m━━━━━━━━━━━━━━━━━━━━\u001b[0m\u001b[37m\u001b[0m \u001b[1m1s\u001b[0m 13ms/step - loss: 0.0011 - val_loss: 4.3877e-04\n",
      "Epoch 5/50\n",
      "\u001b[1m50/50\u001b[0m \u001b[32m━━━━━━━━━━━━━━━━━━━━\u001b[0m\u001b[37m\u001b[0m \u001b[1m1s\u001b[0m 13ms/step - loss: 0.0013 - val_loss: 4.1299e-04\n",
      "Epoch 6/50\n",
      "\u001b[1m50/50\u001b[0m \u001b[32m━━━━━━━━━━━━━━━━━━━━\u001b[0m\u001b[37m\u001b[0m \u001b[1m1s\u001b[0m 13ms/step - loss: 0.0010 - val_loss: 8.3423e-04\n",
      "Epoch 7/50\n",
      "\u001b[1m50/50\u001b[0m \u001b[32m━━━━━━━━━━━━━━━━━━━━\u001b[0m\u001b[37m\u001b[0m \u001b[1m1s\u001b[0m 14ms/step - loss: 8.7088e-04 - val_loss: 3.2460e-04\n",
      "Epoch 8/50\n",
      "\u001b[1m50/50\u001b[0m \u001b[32m━━━━━━━━━━━━━━━━━━━━\u001b[0m\u001b[37m\u001b[0m \u001b[1m1s\u001b[0m 14ms/step - loss: 5.4057e-04 - val_loss: 4.4499e-04\n",
      "Epoch 9/50\n",
      "\u001b[1m50/50\u001b[0m \u001b[32m━━━━━━━━━━━━━━━━━━━━\u001b[0m\u001b[37m\u001b[0m \u001b[1m1s\u001b[0m 14ms/step - loss: 5.3181e-04 - val_loss: 0.0016\n",
      "Epoch 10/50\n",
      "\u001b[1m50/50\u001b[0m \u001b[32m━━━━━━━━━━━━━━━━━━━━\u001b[0m\u001b[37m\u001b[0m \u001b[1m1s\u001b[0m 15ms/step - loss: 8.5364e-04 - val_loss: 2.8099e-04\n",
      "Epoch 11/50\n",
      "\u001b[1m50/50\u001b[0m \u001b[32m━━━━━━━━━━━━━━━━━━━━\u001b[0m\u001b[37m\u001b[0m \u001b[1m1s\u001b[0m 13ms/step - loss: 4.4810e-04 - val_loss: 3.3816e-04\n",
      "Epoch 12/50\n",
      "\u001b[1m50/50\u001b[0m \u001b[32m━━━━━━━━━━━━━━━━━━━━\u001b[0m\u001b[37m\u001b[0m \u001b[1m1s\u001b[0m 13ms/step - loss: 3.8918e-04 - val_loss: 2.3974e-04\n",
      "Epoch 13/50\n",
      "\u001b[1m50/50\u001b[0m \u001b[32m━━━━━━━━━━━━━━━━━━━━\u001b[0m\u001b[37m\u001b[0m \u001b[1m1s\u001b[0m 13ms/step - loss: 4.4906e-04 - val_loss: 3.8748e-04\n",
      "Epoch 14/50\n",
      "\u001b[1m50/50\u001b[0m \u001b[32m━━━━━━━━━━━━━━━━━━━━\u001b[0m\u001b[37m\u001b[0m \u001b[1m1s\u001b[0m 14ms/step - loss: 4.9161e-04 - val_loss: 2.5189e-04\n",
      "Epoch 15/50\n",
      "\u001b[1m50/50\u001b[0m \u001b[32m━━━━━━━━━━━━━━━━━━━━\u001b[0m\u001b[37m\u001b[0m \u001b[1m1s\u001b[0m 17ms/step - loss: 3.7562e-04 - val_loss: 4.2516e-04\n",
      "Epoch 16/50\n",
      "\u001b[1m50/50\u001b[0m \u001b[32m━━━━━━━━━━━━━━━━━━━━\u001b[0m\u001b[37m\u001b[0m \u001b[1m1s\u001b[0m 13ms/step - loss: 3.1035e-04 - val_loss: 2.2324e-04\n",
      "Epoch 17/50\n",
      "\u001b[1m50/50\u001b[0m \u001b[32m━━━━━━━━━━━━━━━━━━━━\u001b[0m\u001b[37m\u001b[0m \u001b[1m1s\u001b[0m 14ms/step - loss: 3.7253e-04 - val_loss: 1.5184e-04\n",
      "Epoch 18/50\n",
      "\u001b[1m50/50\u001b[0m \u001b[32m━━━━━━━━━━━━━━━━━━━━\u001b[0m\u001b[37m\u001b[0m \u001b[1m1s\u001b[0m 14ms/step - loss: 2.5877e-04 - val_loss: 2.9731e-04\n",
      "Epoch 19/50\n",
      "\u001b[1m50/50\u001b[0m \u001b[32m━━━━━━━━━━━━━━━━━━━━\u001b[0m\u001b[37m\u001b[0m \u001b[1m1s\u001b[0m 13ms/step - loss: 2.9431e-04 - val_loss: 1.6586e-04\n",
      "Epoch 20/50\n",
      "\u001b[1m50/50\u001b[0m \u001b[32m━━━━━━━━━━━━━━━━━━━━\u001b[0m\u001b[37m\u001b[0m \u001b[1m1s\u001b[0m 14ms/step - loss: 2.4134e-04 - val_loss: 2.4833e-04\n",
      "Epoch 21/50\n",
      "\u001b[1m50/50\u001b[0m \u001b[32m━━━━━━━━━━━━━━━━━━━━\u001b[0m\u001b[37m\u001b[0m \u001b[1m1s\u001b[0m 14ms/step - loss: 5.1427e-04 - val_loss: 4.5784e-04\n",
      "Epoch 22/50\n",
      "\u001b[1m50/50\u001b[0m \u001b[32m━━━━━━━━━━━━━━━━━━━━\u001b[0m\u001b[37m\u001b[0m \u001b[1m1s\u001b[0m 14ms/step - loss: 2.4844e-04 - val_loss: 2.8724e-04\n",
      "Epoch 23/50\n",
      "\u001b[1m50/50\u001b[0m \u001b[32m━━━━━━━━━━━━━━━━━━━━\u001b[0m\u001b[37m\u001b[0m \u001b[1m1s\u001b[0m 14ms/step - loss: 1.9584e-04 - val_loss: 2.6298e-04\n",
      "Epoch 24/50\n",
      "\u001b[1m50/50\u001b[0m \u001b[32m━━━━━━━━━━━━━━━━━━━━\u001b[0m\u001b[37m\u001b[0m \u001b[1m1s\u001b[0m 13ms/step - loss: 1.9010e-04 - val_loss: 1.3095e-04\n",
      "Epoch 25/50\n",
      "\u001b[1m50/50\u001b[0m \u001b[32m━━━━━━━━━━━━━━━━━━━━\u001b[0m\u001b[37m\u001b[0m \u001b[1m1s\u001b[0m 14ms/step - loss: 1.7590e-04 - val_loss: 1.2919e-04\n",
      "Epoch 26/50\n",
      "\u001b[1m50/50\u001b[0m \u001b[32m━━━━━━━━━━━━━━━━━━━━\u001b[0m\u001b[37m\u001b[0m \u001b[1m1s\u001b[0m 14ms/step - loss: 1.5606e-04 - val_loss: 2.2878e-04\n",
      "Epoch 27/50\n",
      "\u001b[1m50/50\u001b[0m \u001b[32m━━━━━━━━━━━━━━━━━━━━\u001b[0m\u001b[37m\u001b[0m \u001b[1m1s\u001b[0m 13ms/step - loss: 1.9118e-04 - val_loss: 1.2514e-04\n",
      "Epoch 28/50\n",
      "\u001b[1m50/50\u001b[0m \u001b[32m━━━━━━━━━━━━━━━━━━━━\u001b[0m\u001b[37m\u001b[0m \u001b[1m1s\u001b[0m 15ms/step - loss: 1.7940e-04 - val_loss: 1.2693e-04\n",
      "Epoch 29/50\n",
      "\u001b[1m50/50\u001b[0m \u001b[32m━━━━━━━━━━━━━━━━━━━━\u001b[0m\u001b[37m\u001b[0m \u001b[1m1s\u001b[0m 14ms/step - loss: 1.4283e-04 - val_loss: 1.3873e-04\n",
      "Epoch 30/50\n",
      "\u001b[1m50/50\u001b[0m \u001b[32m━━━━━━━━━━━━━━━━━━━━\u001b[0m\u001b[37m\u001b[0m \u001b[1m1s\u001b[0m 14ms/step - loss: 1.7470e-04 - val_loss: 1.0746e-04\n",
      "Epoch 31/50\n",
      "\u001b[1m50/50\u001b[0m \u001b[32m━━━━━━━━━━━━━━━━━━━━\u001b[0m\u001b[37m\u001b[0m \u001b[1m1s\u001b[0m 14ms/step - loss: 1.6269e-04 - val_loss: 9.9409e-05\n",
      "Epoch 32/50\n",
      "\u001b[1m50/50\u001b[0m \u001b[32m━━━━━━━━━━━━━━━━━━━━\u001b[0m\u001b[37m\u001b[0m \u001b[1m1s\u001b[0m 14ms/step - loss: 1.4795e-04 - val_loss: 1.1200e-04\n",
      "Epoch 33/50\n",
      "\u001b[1m50/50\u001b[0m \u001b[32m━━━━━━━━━━━━━━━━━━━━\u001b[0m\u001b[37m\u001b[0m \u001b[1m1s\u001b[0m 14ms/step - loss: 1.1964e-04 - val_loss: 1.2362e-04\n",
      "Epoch 34/50\n",
      "\u001b[1m50/50\u001b[0m \u001b[32m━━━━━━━━━━━━━━━━━━━━\u001b[0m\u001b[37m\u001b[0m \u001b[1m1s\u001b[0m 15ms/step - loss: 1.1498e-04 - val_loss: 2.9548e-04\n",
      "Epoch 35/50\n",
      "\u001b[1m50/50\u001b[0m \u001b[32m━━━━━━━━━━━━━━━━━━━━\u001b[0m\u001b[37m\u001b[0m \u001b[1m1s\u001b[0m 14ms/step - loss: 1.5238e-04 - val_loss: 9.7209e-05\n",
      "Epoch 36/50\n",
      "\u001b[1m50/50\u001b[0m \u001b[32m━━━━━━━━━━━━━━━━━━━━\u001b[0m\u001b[37m\u001b[0m \u001b[1m1s\u001b[0m 14ms/step - loss: 1.5033e-04 - val_loss: 9.8641e-05\n",
      "Epoch 37/50\n",
      "\u001b[1m50/50\u001b[0m \u001b[32m━━━━━━━━━━━━━━━━━━━━\u001b[0m\u001b[37m\u001b[0m \u001b[1m1s\u001b[0m 14ms/step - loss: 1.1194e-04 - val_loss: 1.1125e-04\n",
      "Epoch 38/50\n",
      "\u001b[1m50/50\u001b[0m \u001b[32m━━━━━━━━━━━━━━━━━━━━\u001b[0m\u001b[37m\u001b[0m \u001b[1m1s\u001b[0m 15ms/step - loss: 1.0986e-04 - val_loss: 1.9257e-04\n",
      "Epoch 39/50\n",
      "\u001b[1m50/50\u001b[0m \u001b[32m━━━━━━━━━━━━━━━━━━━━\u001b[0m\u001b[37m\u001b[0m \u001b[1m1s\u001b[0m 14ms/step - loss: 1.0513e-04 - val_loss: 1.0131e-04\n",
      "Epoch 40/50\n",
      "\u001b[1m50/50\u001b[0m \u001b[32m━━━━━━━━━━━━━━━━━━━━\u001b[0m\u001b[37m\u001b[0m \u001b[1m1s\u001b[0m 14ms/step - loss: 8.0500e-05 - val_loss: 1.9632e-04\n",
      "Epoch 41/50\n",
      "\u001b[1m50/50\u001b[0m \u001b[32m━━━━━━━━━━━━━━━━━━━━\u001b[0m\u001b[37m\u001b[0m \u001b[1m1s\u001b[0m 14ms/step - loss: 1.4760e-04 - val_loss: 2.0775e-04\n",
      "Epoch 42/50\n",
      "\u001b[1m50/50\u001b[0m \u001b[32m━━━━━━━━━━━━━━━━━━━━\u001b[0m\u001b[37m\u001b[0m \u001b[1m1s\u001b[0m 13ms/step - loss: 1.6703e-04 - val_loss: 1.0451e-04\n",
      "Epoch 43/50\n",
      "\u001b[1m50/50\u001b[0m \u001b[32m━━━━━━━━━━━━━━━━━━━━\u001b[0m\u001b[37m\u001b[0m \u001b[1m1s\u001b[0m 14ms/step - loss: 1.3638e-04 - val_loss: 1.1853e-04\n",
      "Epoch 44/50\n",
      "\u001b[1m50/50\u001b[0m \u001b[32m━━━━━━━━━━━━━━━━━━━━\u001b[0m\u001b[37m\u001b[0m \u001b[1m1s\u001b[0m 15ms/step - loss: 2.5400e-04 - val_loss: 1.0425e-04\n",
      "Epoch 45/50\n",
      "\u001b[1m50/50\u001b[0m \u001b[32m━━━━━━━━━━━━━━━━━━━━\u001b[0m\u001b[37m\u001b[0m \u001b[1m1s\u001b[0m 14ms/step - loss: 1.0091e-04 - val_loss: 1.0662e-04\n",
      "Epoch 46/50\n",
      "\u001b[1m50/50\u001b[0m \u001b[32m━━━━━━━━━━━━━━━━━━━━\u001b[0m\u001b[37m\u001b[0m \u001b[1m1s\u001b[0m 14ms/step - loss: 9.7294e-05 - val_loss: 1.1982e-04\n",
      "Epoch 47/50\n",
      "\u001b[1m50/50\u001b[0m \u001b[32m━━━━━━━━━━━━━━━━━━━━\u001b[0m\u001b[37m\u001b[0m \u001b[1m1s\u001b[0m 14ms/step - loss: 9.6092e-05 - val_loss: 2.8391e-04\n",
      "Epoch 48/50\n",
      "\u001b[1m50/50\u001b[0m \u001b[32m━━━━━━━━━━━━━━━━━━━━\u001b[0m\u001b[37m\u001b[0m \u001b[1m1s\u001b[0m 14ms/step - loss: 1.6677e-04 - val_loss: 9.1682e-05\n",
      "Epoch 49/50\n",
      "\u001b[1m50/50\u001b[0m \u001b[32m━━━━━━━━━━━━━━━━━━━━\u001b[0m\u001b[37m\u001b[0m \u001b[1m1s\u001b[0m 15ms/step - loss: 8.7496e-05 - val_loss: 9.7592e-05\n",
      "Epoch 50/50\n",
      "\u001b[1m50/50\u001b[0m \u001b[32m━━━━━━━━━━━━━━━━━━━━\u001b[0m\u001b[37m\u001b[0m \u001b[1m1s\u001b[0m 13ms/step - loss: 6.9736e-05 - val_loss: 1.1573e-04\n"
     ]
    }
   ],
   "source": [
    "# Train the model\n",
    "history = model.fit(X_train_cnn, y_train, epochs=50, validation_data=(X_test_cnn, y_test))"
   ]
  },
  {
   "cell_type": "markdown",
   "id": "5fe938ea-6866-42b0-a0ae-f30597ce16c7",
   "metadata": {},
   "source": [
    "## Step 3: Model Performance Evaluation\n",
    "**Description**:\n",
    "In this section, the performance of the trained model is assessed using:\n",
    "1. Mean Absolute Error (MAE)\n",
    "2. Mean Squared Error (MSE)\n",
    "3. Residual analysis to visualize prediction errors.\n",
    "\n",
    "**Outputs**:\n",
    "- Performance metrics (MAE, MSE).\n",
    "- Using a residual plot, one can find differences between the actual and expected values.\n"
   ]
  },
  {
   "cell_type": "code",
   "execution_count": 23,
   "id": "b1e0cf0a-053b-4cee-9a4f-4fb62815cd5b",
   "metadata": {},
   "outputs": [
    {
     "name": "stdout",
     "output_type": "stream",
     "text": [
      "\u001b[1m13/13\u001b[0m \u001b[32m━━━━━━━━━━━━━━━━━━━━\u001b[0m\u001b[37m\u001b[0m \u001b[1m0s\u001b[0m 7ms/step - loss: 1.1052e-04\n",
      "Model Loss: 0.00011572963558137417\n"
     ]
    },
    {
     "data": {
      "image/png": "[encoded data removed]",
      "text/plain": [
       "<Figure size 640x480 with 1 Axes>"
      ]
     },
     "metadata": {},
     "output_type": "display_data"
    }
   ],
   "source": [
    "# Evaluate model\n",
    "loss = model.evaluate(X_test_cnn, y_test)\n",
    "print(f'Model Loss: {loss}')\n",
    "\n",
    "# Plot training and validation loss over epochs\n",
    "plt.plot(history.history['loss'], label='Train Loss')\n",
    "plt.plot(history.history['val_loss'], label='Validation Loss')\n",
    "plt.xlabel('Epochs')\n",
    "plt.ylabel('Loss')\n",
    "plt.legend()\n",
    "plt.title('Training and Validation Loss')\n",
    "plt.show()\n"
   ]
  },
  {
   "cell_type": "markdown",
   "id": "5c34f770-e984-43e8-a75b-53a425c9e8e4",
   "metadata": {},
   "source": [
    "## Step 4: Interactive Visualization Dashboard\n",
    "**Description**:\n",
    "Financial analysts can examine the interactive dashboard created in this section:\n",
    "1. Actual vs. Predicted stock prices dynamically.\n",
    "2. For error analysis, residual plots are used.\n",
    "3. Summary metrics (MAE, MSE) based on user-selected filters.\n",
    "\n",
    "**Features**:\n",
    "- **Dropdown Menu**: Select stock symbols for analysis.\n",
    "- **Date Range Slider**: Filter data by specific timeframes.\n",
    "- **Dynamic Graphs**: Visualize trends and evaluate model accuracy.\n",
    "\n",
    "**Tools**:\n",
    "- **Dash and Plotly**: In order to develop interactive visualizations.\n",
    "- **Callbacks**: To dynamically modify metrics and graphs in response to user input.\n",
    "\n",
    "**Note**:\n",
    "Run the app using `app.run_server()` and access it in your browser.\n"
   ]
  },
  {
   "cell_type": "code",
   "execution_count": 24,
   "id": "58de0e3f-c967-4b26-8db7-25b7ad1df73e",
   "metadata": {},
   "outputs": [],
   "source": [
    "import pandas as pd\n",
    "import numpy as np\n",
    "import plotly.express as px\n",
    "import plotly.graph_objects as go\n",
    "from dash import Dash, dcc, html, Input, Output\n",
    "\n",
    "# Load predicted data (replace with your actual data)\n",
    "df_predictions = pd.DataFrame({\n",
    "    'Date': pd.date_range(start='2023-01-01', periods=100),\n",
    "    'Stock_Symbol': ['AAPL'] * 50 + ['GOOGL'] * 50,\n",
    "    'Actual_Price': np.random.uniform(100, 500, 100),\n",
    "    'Predicted_Price': np.random.uniform(100, 500, 100)\n",
    "})\n"
   ]
  },
  {
   "cell_type": "code",
   "execution_count": 25,
   "id": "4cc112bb-f7fe-4056-835a-07745a3f5f22",
   "metadata": {},
   "outputs": [],
   "source": [
    "# Initialize the Dash app\n",
    "app = Dash(__name__)\n",
    "\n",
    "# Define the layout\n",
    "app.layout = html.Div([\n",
    "    html.H1(\"Stock Market Prediction Dashboard\", style={'textAlign': 'center'}),\n",
    "    html.Div([\n",
    "        html.Label(\"Select Stock Symbol:\"),\n",
    "        dcc.Dropdown(\n",
    "            id='stock-dropdown',\n",
    "            options=[{'label': symbol, 'value': symbol} for symbol in df_predictions['Stock_Symbol'].unique()],\n",
    "            value='AAPL',  # Default value\n",
    "            style={'width': '50%'}\n",
    "        ),\n",
    "        html.Label(\"Select Date Range:\"),\n",
    "        dcc.RangeSlider(\n",
    "            id='date-slider',\n",
    "            min=0,\n",
    "            max=len(df_predictions['Date']) - 1,\n",
    "            value=[0, len(df_predictions['Date']) - 1],\n",
    "            marks={i: date.strftime('%Y-%m-%d') for i, date in enumerate(df_predictions['Date'])},\n",
    "            step=1\n",
    "        )\n",
    "    ], style={'margin': '20px'}),\n",
    "    dcc.Graph(id='price-graph'),\n",
    "    html.Div(id='summary-metrics', style={'margin': '20px'})\n",
    "])"
   ]
  },
  {
   "cell_type": "code",
   "execution_count": 26,
   "id": "5d440856-f39e-423b-93d1-ceb76a650956",
   "metadata": {},
   "outputs": [],
   "source": [
    "@app.callback(\n",
    "    [Output('price-graph', 'figure'),\n",
    "     Output('summary-metrics', 'children')],\n",
    "    [Input('stock-dropdown', 'value'),\n",
    "     Input('date-slider', 'value')]\n",
    ")\n",
    "def update_dashboard(stock_symbol, date_range):\n",
    "    # Filter data based on stock symbol and date range\n",
    "    filtered_data = df_predictions[\n",
    "        (df_predictions['Stock_Symbol'] == stock_symbol) &\n",
    "        (df_predictions.index >= date_range[0]) &\n",
    "        (df_predictions.index <= date_range[1])\n",
    "    ]\n",
    "    \n",
    "    # Create the graph\n",
    "    fig = go.Figure()\n",
    "    fig.add_trace(go.Scatter(\n",
    "        x=filtered_data['Date'], y=filtered_data['Actual_Price'],\n",
    "        mode='lines+markers', name='Actual Price'\n",
    "    ))\n",
    "    fig.add_trace(go.Scatter(\n",
    "        x=filtered_data['Date'], y=filtered_data['Predicted_Price'],\n",
    "        mode='lines+markers', name='Predicted Price'\n",
    "    ))\n",
    "    fig.update_layout(title=\"Stock Prices: Actual vs Predicted\",\n",
    "                      xaxis_title='Date', yaxis_title='Stock Price',\n",
    "                      legend_title=\"Legend\")\n",
    "    \n",
    "    # Calculate summary metrics\n",
    "    mae = np.mean(np.abs(filtered_data['Actual_Price'] - filtered_data['Predicted_Price']))\n",
    "    mse = np.mean((filtered_data['Actual_Price'] - filtered_data['Predicted_Price'])**2)\n",
    "    metrics = [\n",
    "        html.P(f\"Mean Absolute Error (MAE): {mae:.2f}\"),\n",
    "        html.P(f\"Mean Squared Error (MSE): {mse:.2f}\")\n",
    "    ]\n",
    "    \n",
    "    return fig, metrics\n"
   ]
  },
  {
   "cell_type": "code",
   "execution_count": 27,
   "id": "e79e9be6-8579-4df3-abc6-1e4dd15de667",
   "metadata": {},
   "outputs": [
    {
     "data": {
      "text/html": [
       "\n",
       "        <iframe\n",
       "            width=\"100%\"\n",
       "            height=\"650\"\n",
       "            src=\"http://127.0.0.1:8051/\"\n",
       "            frameborder=\"0\"\n",
       "            allowfullscreen\n",
       "            \n",
       "        ></iframe>\n",
       "        "
      ],
      "text/plain": [
       "<IPython.lib.display.IFrame at 0x1f1e978fec0>"
      ]
     },
     "metadata": {},
     "output_type": "display_data"
    }
   ],
   "source": [
    "if __name__ == '__main__':\n",
    "    app.run_server(debug=True, port=8051)"
   ]
  },
  {
   "cell_type": "markdown",
   "id": "f03e1eb5-5775-411d-a0c1-64463cc38563",
   "metadata": {},
   "source": [
    "# Conclusion\n",
    "With the help of interactive visualization and machine learning, this project offers useful insights into stock market forecasts.\n",
    "\n",
    "## Key Takeaways:\n",
    "1. CNNs perform well on time-series forecasting tasks, such as predicting stock prices.\n",
    "2. Users can explore predictions and dynamically assess model performance with interactive dashboards, which improve usability.\n",
    "3. Future enhancements will incorporate real-time prediction capabilities and external data sources.\n"
   ]
  },
  {
   "cell_type": "code",
   "execution_count": null,
   "id": "f06f52ad-73de-48e7-bd04-20c737f33f28",
   "metadata": {},
   "outputs": [],
   "source": []
  }
 ],
 "metadata": {
  "kernelspec": {
   "display_name": "Python 3 (ipykernel)",
   "language": "python",
   "name": "python3"
  },
  "language_info": {
   "codemirror_mode": {
    "name": "ipython",
    "version": 3
   },
   "file_extension": ".py",
   "mimetype": "text/x-python",
   "name": "python",
   "nbconvert_exporter": "python",
   "pygments_lexer": "ipython3",
   "version": "3.12.4"
  }
 },
 "nbformat": 4,
 "nbformat_minor": 5
}
